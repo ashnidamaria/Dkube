{
 "cells": [
  {
   "cell_type": "markdown",
   "id": "2ad56b15",
   "metadata": {
    "ExecuteTime": {
     "end_time": "2022-04-16T18:47:18.186389Z",
     "start_time": "2022-04-16T18:47:18.176017Z"
    }
   },
   "source": [
    "## Importing Libraries"
   ]
  },
  {
   "cell_type": "code",
   "execution_count": 1,
   "id": "e9c439ea",
   "metadata": {
    "ExecuteTime": {
     "end_time": "2022-04-16T22:39:47.443748Z",
     "start_time": "2022-04-16T22:39:44.891122Z"
    }
   },
   "outputs": [],
   "source": [
    "import numpy as np, pandas as pd\n",
    "import matplotlib.pyplot as plt, seaborn as sns\n",
    "pd.set_option('display.max_rows', 500)\n",
    "pd.set_option('display.max_columns', 500)\n",
    "pd.set_option('display.width', 1000)\n",
    "\n",
    "from sklearn.preprocessing import MinMaxScaler\n",
    "from sklearn.model_selection import train_test_split\n",
    "from sklearn.ensemble import RandomForestClassifier\n",
    "from sklearn.metrics import roc_auc_score, f1_score, accuracy_score\n",
    "from sklearn.linear_model import LogisticRegression\n",
    "from imblearn.over_sampling import ADASYN\n",
    "from sklearn.tree import DecisionTreeClassifier"
   ]
  },
  {
   "cell_type": "markdown",
   "id": "ea6e1bb4",
   "metadata": {
    "ExecuteTime": {
     "end_time": "2022-04-16T18:47:22.956864Z",
     "start_time": "2022-04-16T18:47:22.939865Z"
    }
   },
   "source": [
    "## Importing datasets and basic inspection"
   ]
  },
  {
   "cell_type": "code",
   "execution_count": 2,
   "id": "0df492af",
   "metadata": {
    "ExecuteTime": {
     "end_time": "2022-04-16T22:39:47.491505Z",
     "start_time": "2022-04-16T22:39:47.448588Z"
    }
   },
   "outputs": [
    {
     "data": {
      "text/plain": [
       "(7500, 18)"
      ]
     },
     "execution_count": 2,
     "metadata": {},
     "output_type": "execute_result"
    }
   ],
   "source": [
    "# Importing dataset\n",
    "loan_df = pd.read_csv(\"train.csv\")\n",
    "\n",
    "#checking the shape\n",
    "loan_df.shape"
   ]
  },
  {
   "cell_type": "code",
   "execution_count": 3,
   "id": "158c1f60",
   "metadata": {
    "ExecuteTime": {
     "end_time": "2022-04-16T22:39:47.740880Z",
     "start_time": "2022-04-16T22:39:47.493469Z"
    }
   },
   "outputs": [
    {
     "data": {
      "text/html": [
       "<div>\n",
       "<style scoped>\n",
       "    .dataframe tbody tr th:only-of-type {\n",
       "        vertical-align: middle;\n",
       "    }\n",
       "\n",
       "    .dataframe tbody tr th {\n",
       "        vertical-align: top;\n",
       "    }\n",
       "\n",
       "    .dataframe thead th {\n",
       "        text-align: right;\n",
       "    }\n",
       "</style>\n",
       "<table border=\"1\" class=\"dataframe\">\n",
       "  <thead>\n",
       "    <tr style=\"text-align: right;\">\n",
       "      <th></th>\n",
       "      <th>Id</th>\n",
       "      <th>Home Ownership</th>\n",
       "      <th>Annual Income</th>\n",
       "      <th>Years in current job</th>\n",
       "      <th>Tax Liens</th>\n",
       "      <th>Number of Open Accounts</th>\n",
       "      <th>Years of Credit History</th>\n",
       "      <th>Maximum Open Credit</th>\n",
       "      <th>Number of Credit Problems</th>\n",
       "      <th>Months since last delinquent</th>\n",
       "      <th>Bankruptcies</th>\n",
       "      <th>Purpose</th>\n",
       "      <th>Term</th>\n",
       "      <th>Current Loan Amount</th>\n",
       "      <th>Current Credit Balance</th>\n",
       "      <th>Monthly Debt</th>\n",
       "      <th>Credit Score</th>\n",
       "      <th>Credit Default</th>\n",
       "    </tr>\n",
       "  </thead>\n",
       "  <tbody>\n",
       "    <tr>\n",
       "      <th>0</th>\n",
       "      <td>0</td>\n",
       "      <td>Own Home</td>\n",
       "      <td>482087.0</td>\n",
       "      <td>NaN</td>\n",
       "      <td>0.0</td>\n",
       "      <td>11.0</td>\n",
       "      <td>26.3</td>\n",
       "      <td>685960.0</td>\n",
       "      <td>1.0</td>\n",
       "      <td>NaN</td>\n",
       "      <td>1.0</td>\n",
       "      <td>debt consolidation</td>\n",
       "      <td>Short Term</td>\n",
       "      <td>99999999.0</td>\n",
       "      <td>47386.0</td>\n",
       "      <td>7914.0</td>\n",
       "      <td>749.0</td>\n",
       "      <td>0</td>\n",
       "    </tr>\n",
       "    <tr>\n",
       "      <th>1</th>\n",
       "      <td>1</td>\n",
       "      <td>Own Home</td>\n",
       "      <td>1025487.0</td>\n",
       "      <td>10+ years</td>\n",
       "      <td>0.0</td>\n",
       "      <td>15.0</td>\n",
       "      <td>15.3</td>\n",
       "      <td>1181730.0</td>\n",
       "      <td>0.0</td>\n",
       "      <td>NaN</td>\n",
       "      <td>0.0</td>\n",
       "      <td>debt consolidation</td>\n",
       "      <td>Long Term</td>\n",
       "      <td>264968.0</td>\n",
       "      <td>394972.0</td>\n",
       "      <td>18373.0</td>\n",
       "      <td>737.0</td>\n",
       "      <td>1</td>\n",
       "    </tr>\n",
       "    <tr>\n",
       "      <th>2</th>\n",
       "      <td>2</td>\n",
       "      <td>Home Mortgage</td>\n",
       "      <td>751412.0</td>\n",
       "      <td>8 years</td>\n",
       "      <td>0.0</td>\n",
       "      <td>11.0</td>\n",
       "      <td>35.0</td>\n",
       "      <td>1182434.0</td>\n",
       "      <td>0.0</td>\n",
       "      <td>NaN</td>\n",
       "      <td>0.0</td>\n",
       "      <td>debt consolidation</td>\n",
       "      <td>Short Term</td>\n",
       "      <td>99999999.0</td>\n",
       "      <td>308389.0</td>\n",
       "      <td>13651.0</td>\n",
       "      <td>742.0</td>\n",
       "      <td>0</td>\n",
       "    </tr>\n",
       "    <tr>\n",
       "      <th>3</th>\n",
       "      <td>3</td>\n",
       "      <td>Own Home</td>\n",
       "      <td>805068.0</td>\n",
       "      <td>6 years</td>\n",
       "      <td>0.0</td>\n",
       "      <td>8.0</td>\n",
       "      <td>22.5</td>\n",
       "      <td>147400.0</td>\n",
       "      <td>1.0</td>\n",
       "      <td>NaN</td>\n",
       "      <td>1.0</td>\n",
       "      <td>debt consolidation</td>\n",
       "      <td>Short Term</td>\n",
       "      <td>121396.0</td>\n",
       "      <td>95855.0</td>\n",
       "      <td>11338.0</td>\n",
       "      <td>694.0</td>\n",
       "      <td>0</td>\n",
       "    </tr>\n",
       "    <tr>\n",
       "      <th>4</th>\n",
       "      <td>4</td>\n",
       "      <td>Rent</td>\n",
       "      <td>776264.0</td>\n",
       "      <td>8 years</td>\n",
       "      <td>0.0</td>\n",
       "      <td>13.0</td>\n",
       "      <td>13.6</td>\n",
       "      <td>385836.0</td>\n",
       "      <td>1.0</td>\n",
       "      <td>NaN</td>\n",
       "      <td>0.0</td>\n",
       "      <td>debt consolidation</td>\n",
       "      <td>Short Term</td>\n",
       "      <td>125840.0</td>\n",
       "      <td>93309.0</td>\n",
       "      <td>7180.0</td>\n",
       "      <td>719.0</td>\n",
       "      <td>0</td>\n",
       "    </tr>\n",
       "  </tbody>\n",
       "</table>\n",
       "</div>"
      ],
      "text/plain": [
       "   Id Home Ownership  Annual Income Years in current job  Tax Liens  Number of Open Accounts  Years of Credit History  Maximum Open Credit  Number of Credit Problems  Months since last delinquent  Bankruptcies             Purpose        Term  Current Loan Amount  Current Credit Balance  Monthly Debt  Credit Score  Credit Default\n",
       "0   0       Own Home       482087.0                  NaN        0.0                     11.0                     26.3             685960.0                        1.0                           NaN           1.0  debt consolidation  Short Term           99999999.0                 47386.0        7914.0         749.0               0\n",
       "1   1       Own Home      1025487.0            10+ years        0.0                     15.0                     15.3            1181730.0                        0.0                           NaN           0.0  debt consolidation   Long Term             264968.0                394972.0       18373.0         737.0               1\n",
       "2   2  Home Mortgage       751412.0              8 years        0.0                     11.0                     35.0            1182434.0                        0.0                           NaN           0.0  debt consolidation  Short Term           99999999.0                308389.0       13651.0         742.0               0\n",
       "3   3       Own Home       805068.0              6 years        0.0                      8.0                     22.5             147400.0                        1.0                           NaN           1.0  debt consolidation  Short Term             121396.0                 95855.0       11338.0         694.0               0\n",
       "4   4           Rent       776264.0              8 years        0.0                     13.0                     13.6             385836.0                        1.0                           NaN           0.0  debt consolidation  Short Term             125840.0                 93309.0        7180.0         719.0               0"
      ]
     },
     "execution_count": 3,
     "metadata": {},
     "output_type": "execute_result"
    }
   ],
   "source": [
    "# Inspecting \n",
    "loan_df.head()"
   ]
  },
  {
   "cell_type": "code",
   "execution_count": 4,
   "id": "67bbe3c6",
   "metadata": {
    "ExecuteTime": {
     "end_time": "2022-04-16T22:39:48.008574Z",
     "start_time": "2022-04-16T22:39:47.743358Z"
    }
   },
   "outputs": [
    {
     "name": "stdout",
     "output_type": "stream",
     "text": [
      "<class 'pandas.core.frame.DataFrame'>\n",
      "RangeIndex: 7500 entries, 0 to 7499\n",
      "Data columns (total 18 columns):\n",
      " #   Column                        Non-Null Count  Dtype  \n",
      "---  ------                        --------------  -----  \n",
      " 0   Id                            7500 non-null   int64  \n",
      " 1   Home Ownership                7500 non-null   object \n",
      " 2   Annual Income                 5943 non-null   float64\n",
      " 3   Years in current job          7129 non-null   object \n",
      " 4   Tax Liens                     7500 non-null   float64\n",
      " 5   Number of Open Accounts       7500 non-null   float64\n",
      " 6   Years of Credit History       7500 non-null   float64\n",
      " 7   Maximum Open Credit           7500 non-null   float64\n",
      " 8   Number of Credit Problems     7500 non-null   float64\n",
      " 9   Months since last delinquent  3419 non-null   float64\n",
      " 10  Bankruptcies                  7486 non-null   float64\n",
      " 11  Purpose                       7500 non-null   object \n",
      " 12  Term                          7500 non-null   object \n",
      " 13  Current Loan Amount           7500 non-null   float64\n",
      " 14  Current Credit Balance        7500 non-null   float64\n",
      " 15  Monthly Debt                  7500 non-null   float64\n",
      " 16  Credit Score                  5943 non-null   float64\n",
      " 17  Credit Default                7500 non-null   int64  \n",
      "dtypes: float64(12), int64(2), object(4)\n",
      "memory usage: 1.0+ MB\n"
     ]
    }
   ],
   "source": [
    "# Checking for info\n",
    "loan_df.info()"
   ]
  },
  {
   "cell_type": "markdown",
   "id": "f90ce41b",
   "metadata": {},
   "source": [
    "<b>Observations:</b>\n",
    "1. There are nulls present in several coloumns\n",
    "2. The data types of all columns look fine"
   ]
  },
  {
   "cell_type": "markdown",
   "id": "58d7744e",
   "metadata": {},
   "source": [
    "## Data Cleaning"
   ]
  },
  {
   "cell_type": "code",
   "execution_count": 5,
   "id": "8a520009",
   "metadata": {
    "ExecuteTime": {
     "end_time": "2022-04-16T22:39:48.212428Z",
     "start_time": "2022-04-16T22:39:48.010597Z"
    },
    "scrolled": false
   },
   "outputs": [
    {
     "data": {
      "text/html": [
       "<div>\n",
       "<style scoped>\n",
       "    .dataframe tbody tr th:only-of-type {\n",
       "        vertical-align: middle;\n",
       "    }\n",
       "\n",
       "    .dataframe tbody tr th {\n",
       "        vertical-align: top;\n",
       "    }\n",
       "\n",
       "    .dataframe thead th {\n",
       "        text-align: right;\n",
       "    }\n",
       "</style>\n",
       "<table border=\"1\" class=\"dataframe\">\n",
       "  <thead>\n",
       "    <tr style=\"text-align: right;\">\n",
       "      <th></th>\n",
       "      <th>id</th>\n",
       "      <th>home_ownership</th>\n",
       "      <th>annual_income</th>\n",
       "      <th>years_in_current_job</th>\n",
       "      <th>tax_liens</th>\n",
       "      <th>number_of_open_accounts</th>\n",
       "      <th>years_of_credit_history</th>\n",
       "      <th>maximum_open_credit</th>\n",
       "      <th>number_of_credit_problems</th>\n",
       "      <th>months_since_last_delinquent</th>\n",
       "      <th>bankruptcies</th>\n",
       "      <th>purpose</th>\n",
       "      <th>term</th>\n",
       "      <th>current_loan_amount</th>\n",
       "      <th>current_credit_balance</th>\n",
       "      <th>monthly_debt</th>\n",
       "      <th>credit_score</th>\n",
       "      <th>credit_default</th>\n",
       "    </tr>\n",
       "  </thead>\n",
       "  <tbody>\n",
       "    <tr>\n",
       "      <th>0</th>\n",
       "      <td>0</td>\n",
       "      <td>Own Home</td>\n",
       "      <td>482087.0</td>\n",
       "      <td>NaN</td>\n",
       "      <td>0.0</td>\n",
       "      <td>11.0</td>\n",
       "      <td>26.3</td>\n",
       "      <td>685960.0</td>\n",
       "      <td>1.0</td>\n",
       "      <td>NaN</td>\n",
       "      <td>1.0</td>\n",
       "      <td>debt consolidation</td>\n",
       "      <td>Short Term</td>\n",
       "      <td>99999999.0</td>\n",
       "      <td>47386.0</td>\n",
       "      <td>7914.0</td>\n",
       "      <td>749.0</td>\n",
       "      <td>0</td>\n",
       "    </tr>\n",
       "    <tr>\n",
       "      <th>1</th>\n",
       "      <td>1</td>\n",
       "      <td>Own Home</td>\n",
       "      <td>1025487.0</td>\n",
       "      <td>10+ years</td>\n",
       "      <td>0.0</td>\n",
       "      <td>15.0</td>\n",
       "      <td>15.3</td>\n",
       "      <td>1181730.0</td>\n",
       "      <td>0.0</td>\n",
       "      <td>NaN</td>\n",
       "      <td>0.0</td>\n",
       "      <td>debt consolidation</td>\n",
       "      <td>Long Term</td>\n",
       "      <td>264968.0</td>\n",
       "      <td>394972.0</td>\n",
       "      <td>18373.0</td>\n",
       "      <td>737.0</td>\n",
       "      <td>1</td>\n",
       "    </tr>\n",
       "  </tbody>\n",
       "</table>\n",
       "</div>"
      ],
      "text/plain": [
       "   id home_ownership  annual_income years_in_current_job  tax_liens  number_of_open_accounts  years_of_credit_history  maximum_open_credit  number_of_credit_problems  months_since_last_delinquent  bankruptcies             purpose        term  current_loan_amount  current_credit_balance  monthly_debt  credit_score  credit_default\n",
       "0   0       Own Home       482087.0                  NaN        0.0                     11.0                     26.3             685960.0                        1.0                           NaN           1.0  debt consolidation  Short Term           99999999.0                 47386.0        7914.0         749.0               0\n",
       "1   1       Own Home      1025487.0            10+ years        0.0                     15.0                     15.3            1181730.0                        0.0                           NaN           0.0  debt consolidation   Long Term             264968.0                394972.0       18373.0         737.0               1"
      ]
     },
     "execution_count": 5,
     "metadata": {},
     "output_type": "execute_result"
    }
   ],
   "source": [
    "loan_df.columns = [(\"_\".join(col.split(\" \"))).lower() for col in loan_df.columns]\n",
    "loan_df.head(2)"
   ]
  },
  {
   "cell_type": "code",
   "execution_count": 6,
   "id": "b70c11cc",
   "metadata": {
    "ExecuteTime": {
     "end_time": "2022-04-16T22:39:48.476250Z",
     "start_time": "2022-04-16T22:39:48.215018Z"
    }
   },
   "outputs": [
    {
     "data": {
      "text/plain": [
       "['home_ownership', 'years_in_current_job', 'purpose', 'term']"
      ]
     },
     "execution_count": 6,
     "metadata": {},
     "output_type": "execute_result"
    }
   ],
   "source": [
    "cat_cols = loan_df.select_dtypes(\"object\").columns.to_list()\n",
    "cat_cols"
   ]
  },
  {
   "cell_type": "code",
   "execution_count": 7,
   "id": "d1662c6a",
   "metadata": {
    "ExecuteTime": {
     "end_time": "2022-04-16T22:39:48.708739Z",
     "start_time": "2022-04-16T22:39:48.478117Z"
    }
   },
   "outputs": [
    {
     "data": {
      "text/plain": [
       "['id',\n",
       " 'annual_income',\n",
       " 'tax_liens',\n",
       " 'number_of_open_accounts',\n",
       " 'years_of_credit_history',\n",
       " 'maximum_open_credit',\n",
       " 'number_of_credit_problems',\n",
       " 'months_since_last_delinquent',\n",
       " 'bankruptcies',\n",
       " 'current_loan_amount',\n",
       " 'current_credit_balance',\n",
       " 'monthly_debt',\n",
       " 'credit_score',\n",
       " 'credit_default']"
      ]
     },
     "execution_count": 7,
     "metadata": {},
     "output_type": "execute_result"
    }
   ],
   "source": [
    "num_cols = loan_df.select_dtypes([\"float64\", \"int64\"]).columns.to_list()\n",
    "num_cols"
   ]
  },
  {
   "cell_type": "markdown",
   "id": "8328c84b",
   "metadata": {
    "ExecuteTime": {
     "end_time": "2022-04-16T19:44:48.722152Z",
     "start_time": "2022-04-16T19:44:48.710823Z"
    }
   },
   "source": [
    "### Null imputation"
   ]
  },
  {
   "cell_type": "code",
   "execution_count": 8,
   "id": "ce5aae07",
   "metadata": {
    "ExecuteTime": {
     "end_time": "2022-04-16T22:39:48.942806Z",
     "start_time": "2022-04-16T22:39:48.718501Z"
    },
    "scrolled": true
   },
   "outputs": [
    {
     "data": {
      "text/plain": [
       "id                                 0\n",
       "home_ownership                     0\n",
       "annual_income                   1557\n",
       "years_in_current_job             371\n",
       "tax_liens                          0\n",
       "number_of_open_accounts            0\n",
       "years_of_credit_history            0\n",
       "maximum_open_credit                0\n",
       "number_of_credit_problems          0\n",
       "months_since_last_delinquent    4081\n",
       "bankruptcies                      14\n",
       "purpose                            0\n",
       "term                               0\n",
       "current_loan_amount                0\n",
       "current_credit_balance             0\n",
       "monthly_debt                       0\n",
       "credit_score                    1557\n",
       "credit_default                     0\n",
       "dtype: int64"
      ]
     },
     "execution_count": 8,
     "metadata": {},
     "output_type": "execute_result"
    }
   ],
   "source": [
    "loan_df.isnull().sum() "
   ]
  },
  {
   "cell_type": "code",
   "execution_count": 9,
   "id": "8b81d882",
   "metadata": {
    "ExecuteTime": {
     "end_time": "2022-04-16T22:39:49.146381Z",
     "start_time": "2022-04-16T22:39:48.950669Z"
    }
   },
   "outputs": [],
   "source": [
    "# for col in num_cols:\n",
    "#     if loan_df[col].isnull().sum() > 0:\n",
    "#         loan_df[col].fillna(loan_df[col].median(), inplace = True)"
   ]
  },
  {
   "cell_type": "code",
   "execution_count": 10,
   "id": "fa7a800e",
   "metadata": {
    "ExecuteTime": {
     "end_time": "2022-04-16T22:39:49.379419Z",
     "start_time": "2022-04-16T22:39:49.149256Z"
    }
   },
   "outputs": [],
   "source": [
    "# for col in cat_cols:\n",
    "#     if loan_df[col].isnull().sum() > 0:\n",
    "#         loan_df[col].fillna(loan_df[col].mode()[0], inplace = True)"
   ]
  },
  {
   "cell_type": "code",
   "execution_count": 11,
   "id": "0ea7d0f2",
   "metadata": {
    "ExecuteTime": {
     "end_time": "2022-04-16T22:39:49.722837Z",
     "start_time": "2022-04-16T22:39:49.382152Z"
    }
   },
   "outputs": [
    {
     "data": {
      "text/html": [
       "<div>\n",
       "<style scoped>\n",
       "    .dataframe tbody tr th:only-of-type {\n",
       "        vertical-align: middle;\n",
       "    }\n",
       "\n",
       "    .dataframe tbody tr th {\n",
       "        vertical-align: top;\n",
       "    }\n",
       "\n",
       "    .dataframe thead th {\n",
       "        text-align: right;\n",
       "    }\n",
       "</style>\n",
       "<table border=\"1\" class=\"dataframe\">\n",
       "  <thead>\n",
       "    <tr style=\"text-align: right;\">\n",
       "      <th></th>\n",
       "      <th>id</th>\n",
       "      <th>home_ownership</th>\n",
       "      <th>annual_income</th>\n",
       "      <th>years_in_current_job</th>\n",
       "      <th>tax_liens</th>\n",
       "      <th>number_of_open_accounts</th>\n",
       "      <th>years_of_credit_history</th>\n",
       "      <th>maximum_open_credit</th>\n",
       "      <th>number_of_credit_problems</th>\n",
       "      <th>months_since_last_delinquent</th>\n",
       "      <th>bankruptcies</th>\n",
       "      <th>purpose</th>\n",
       "      <th>term</th>\n",
       "      <th>current_loan_amount</th>\n",
       "      <th>current_credit_balance</th>\n",
       "      <th>monthly_debt</th>\n",
       "      <th>credit_score</th>\n",
       "      <th>credit_default</th>\n",
       "    </tr>\n",
       "  </thead>\n",
       "  <tbody>\n",
       "    <tr>\n",
       "      <th>0</th>\n",
       "      <td>0</td>\n",
       "      <td>Own Home</td>\n",
       "      <td>482087.0</td>\n",
       "      <td>NaN</td>\n",
       "      <td>0.0</td>\n",
       "      <td>11.0</td>\n",
       "      <td>26.3</td>\n",
       "      <td>685960.0</td>\n",
       "      <td>1.0</td>\n",
       "      <td>NaN</td>\n",
       "      <td>1.0</td>\n",
       "      <td>debt consolidation</td>\n",
       "      <td>Short Term</td>\n",
       "      <td>99999999.0</td>\n",
       "      <td>47386.0</td>\n",
       "      <td>7914.0</td>\n",
       "      <td>749.0</td>\n",
       "      <td>0</td>\n",
       "    </tr>\n",
       "    <tr>\n",
       "      <th>1</th>\n",
       "      <td>1</td>\n",
       "      <td>Own Home</td>\n",
       "      <td>1025487.0</td>\n",
       "      <td>10+ years</td>\n",
       "      <td>0.0</td>\n",
       "      <td>15.0</td>\n",
       "      <td>15.3</td>\n",
       "      <td>1181730.0</td>\n",
       "      <td>0.0</td>\n",
       "      <td>NaN</td>\n",
       "      <td>0.0</td>\n",
       "      <td>debt consolidation</td>\n",
       "      <td>Long Term</td>\n",
       "      <td>264968.0</td>\n",
       "      <td>394972.0</td>\n",
       "      <td>18373.0</td>\n",
       "      <td>737.0</td>\n",
       "      <td>1</td>\n",
       "    </tr>\n",
       "    <tr>\n",
       "      <th>2</th>\n",
       "      <td>2</td>\n",
       "      <td>Home Mortgage</td>\n",
       "      <td>751412.0</td>\n",
       "      <td>8 years</td>\n",
       "      <td>0.0</td>\n",
       "      <td>11.0</td>\n",
       "      <td>35.0</td>\n",
       "      <td>1182434.0</td>\n",
       "      <td>0.0</td>\n",
       "      <td>NaN</td>\n",
       "      <td>0.0</td>\n",
       "      <td>debt consolidation</td>\n",
       "      <td>Short Term</td>\n",
       "      <td>99999999.0</td>\n",
       "      <td>308389.0</td>\n",
       "      <td>13651.0</td>\n",
       "      <td>742.0</td>\n",
       "      <td>0</td>\n",
       "    </tr>\n",
       "    <tr>\n",
       "      <th>3</th>\n",
       "      <td>3</td>\n",
       "      <td>Own Home</td>\n",
       "      <td>805068.0</td>\n",
       "      <td>6 years</td>\n",
       "      <td>0.0</td>\n",
       "      <td>8.0</td>\n",
       "      <td>22.5</td>\n",
       "      <td>147400.0</td>\n",
       "      <td>1.0</td>\n",
       "      <td>NaN</td>\n",
       "      <td>1.0</td>\n",
       "      <td>debt consolidation</td>\n",
       "      <td>Short Term</td>\n",
       "      <td>121396.0</td>\n",
       "      <td>95855.0</td>\n",
       "      <td>11338.0</td>\n",
       "      <td>694.0</td>\n",
       "      <td>0</td>\n",
       "    </tr>\n",
       "    <tr>\n",
       "      <th>4</th>\n",
       "      <td>4</td>\n",
       "      <td>Rent</td>\n",
       "      <td>776264.0</td>\n",
       "      <td>8 years</td>\n",
       "      <td>0.0</td>\n",
       "      <td>13.0</td>\n",
       "      <td>13.6</td>\n",
       "      <td>385836.0</td>\n",
       "      <td>1.0</td>\n",
       "      <td>NaN</td>\n",
       "      <td>0.0</td>\n",
       "      <td>debt consolidation</td>\n",
       "      <td>Short Term</td>\n",
       "      <td>125840.0</td>\n",
       "      <td>93309.0</td>\n",
       "      <td>7180.0</td>\n",
       "      <td>719.0</td>\n",
       "      <td>0</td>\n",
       "    </tr>\n",
       "    <tr>\n",
       "      <th>5</th>\n",
       "      <td>5</td>\n",
       "      <td>Rent</td>\n",
       "      <td>NaN</td>\n",
       "      <td>7 years</td>\n",
       "      <td>0.0</td>\n",
       "      <td>12.0</td>\n",
       "      <td>14.6</td>\n",
       "      <td>366784.0</td>\n",
       "      <td>0.0</td>\n",
       "      <td>NaN</td>\n",
       "      <td>0.0</td>\n",
       "      <td>other</td>\n",
       "      <td>Long Term</td>\n",
       "      <td>337304.0</td>\n",
       "      <td>165680.0</td>\n",
       "      <td>18692.0</td>\n",
       "      <td>NaN</td>\n",
       "      <td>1</td>\n",
       "    </tr>\n",
       "    <tr>\n",
       "      <th>6</th>\n",
       "      <td>6</td>\n",
       "      <td>Home Mortgage</td>\n",
       "      <td>1511108.0</td>\n",
       "      <td>10+ years</td>\n",
       "      <td>0.0</td>\n",
       "      <td>9.0</td>\n",
       "      <td>20.3</td>\n",
       "      <td>388124.0</td>\n",
       "      <td>0.0</td>\n",
       "      <td>73.0</td>\n",
       "      <td>0.0</td>\n",
       "      <td>home improvements</td>\n",
       "      <td>Short Term</td>\n",
       "      <td>99999999.0</td>\n",
       "      <td>51623.0</td>\n",
       "      <td>2317.0</td>\n",
       "      <td>745.0</td>\n",
       "      <td>0</td>\n",
       "    </tr>\n",
       "    <tr>\n",
       "      <th>7</th>\n",
       "      <td>7</td>\n",
       "      <td>Rent</td>\n",
       "      <td>1040060.0</td>\n",
       "      <td>10+ years</td>\n",
       "      <td>0.0</td>\n",
       "      <td>13.0</td>\n",
       "      <td>12.0</td>\n",
       "      <td>330374.0</td>\n",
       "      <td>0.0</td>\n",
       "      <td>18.0</td>\n",
       "      <td>0.0</td>\n",
       "      <td>other</td>\n",
       "      <td>Short Term</td>\n",
       "      <td>250888.0</td>\n",
       "      <td>89015.0</td>\n",
       "      <td>19761.0</td>\n",
       "      <td>705.0</td>\n",
       "      <td>1</td>\n",
       "    </tr>\n",
       "    <tr>\n",
       "      <th>8</th>\n",
       "      <td>8</td>\n",
       "      <td>Home Mortgage</td>\n",
       "      <td>NaN</td>\n",
       "      <td>5 years</td>\n",
       "      <td>0.0</td>\n",
       "      <td>17.0</td>\n",
       "      <td>15.7</td>\n",
       "      <td>0.0</td>\n",
       "      <td>1.0</td>\n",
       "      <td>NaN</td>\n",
       "      <td>1.0</td>\n",
       "      <td>home improvements</td>\n",
       "      <td>Short Term</td>\n",
       "      <td>129734.0</td>\n",
       "      <td>19.0</td>\n",
       "      <td>17.0</td>\n",
       "      <td>NaN</td>\n",
       "      <td>0</td>\n",
       "    </tr>\n",
       "    <tr>\n",
       "      <th>9</th>\n",
       "      <td>9</td>\n",
       "      <td>Home Mortgage</td>\n",
       "      <td>NaN</td>\n",
       "      <td>1 year</td>\n",
       "      <td>0.0</td>\n",
       "      <td>10.0</td>\n",
       "      <td>24.6</td>\n",
       "      <td>511302.0</td>\n",
       "      <td>0.0</td>\n",
       "      <td>6.0</td>\n",
       "      <td>0.0</td>\n",
       "      <td>debt consolidation</td>\n",
       "      <td>Long Term</td>\n",
       "      <td>572880.0</td>\n",
       "      <td>205333.0</td>\n",
       "      <td>17613.0</td>\n",
       "      <td>NaN</td>\n",
       "      <td>1</td>\n",
       "    </tr>\n",
       "    <tr>\n",
       "      <th>10</th>\n",
       "      <td>10</td>\n",
       "      <td>Home Mortgage</td>\n",
       "      <td>NaN</td>\n",
       "      <td>&lt; 1 year</td>\n",
       "      <td>0.0</td>\n",
       "      <td>7.0</td>\n",
       "      <td>11.5</td>\n",
       "      <td>256322.0</td>\n",
       "      <td>0.0</td>\n",
       "      <td>NaN</td>\n",
       "      <td>0.0</td>\n",
       "      <td>debt consolidation</td>\n",
       "      <td>Short Term</td>\n",
       "      <td>220858.0</td>\n",
       "      <td>187492.0</td>\n",
       "      <td>14592.0</td>\n",
       "      <td>NaN</td>\n",
       "      <td>0</td>\n",
       "    </tr>\n",
       "    <tr>\n",
       "      <th>11</th>\n",
       "      <td>11</td>\n",
       "      <td>Home Mortgage</td>\n",
       "      <td>1828560.0</td>\n",
       "      <td>4 years</td>\n",
       "      <td>0.0</td>\n",
       "      <td>12.0</td>\n",
       "      <td>17.6</td>\n",
       "      <td>839080.0</td>\n",
       "      <td>0.0</td>\n",
       "      <td>NaN</td>\n",
       "      <td>0.0</td>\n",
       "      <td>debt consolidation</td>\n",
       "      <td>Short Term</td>\n",
       "      <td>441100.0</td>\n",
       "      <td>402914.0</td>\n",
       "      <td>15528.0</td>\n",
       "      <td>737.0</td>\n",
       "      <td>0</td>\n",
       "    </tr>\n",
       "    <tr>\n",
       "      <th>12</th>\n",
       "      <td>12</td>\n",
       "      <td>Home Mortgage</td>\n",
       "      <td>933432.0</td>\n",
       "      <td>10+ years</td>\n",
       "      <td>0.0</td>\n",
       "      <td>8.0</td>\n",
       "      <td>14.0</td>\n",
       "      <td>443608.0</td>\n",
       "      <td>0.0</td>\n",
       "      <td>NaN</td>\n",
       "      <td>0.0</td>\n",
       "      <td>debt consolidation</td>\n",
       "      <td>Short Term</td>\n",
       "      <td>337766.0</td>\n",
       "      <td>315305.0</td>\n",
       "      <td>19446.0</td>\n",
       "      <td>706.0</td>\n",
       "      <td>0</td>\n",
       "    </tr>\n",
       "    <tr>\n",
       "      <th>13</th>\n",
       "      <td>13</td>\n",
       "      <td>Rent</td>\n",
       "      <td>2066364.0</td>\n",
       "      <td>10+ years</td>\n",
       "      <td>0.0</td>\n",
       "      <td>11.0</td>\n",
       "      <td>17.7</td>\n",
       "      <td>1654026.0</td>\n",
       "      <td>0.0</td>\n",
       "      <td>NaN</td>\n",
       "      <td>0.0</td>\n",
       "      <td>debt consolidation</td>\n",
       "      <td>Long Term</td>\n",
       "      <td>549780.0</td>\n",
       "      <td>1037077.0</td>\n",
       "      <td>21869.0</td>\n",
       "      <td>728.0</td>\n",
       "      <td>1</td>\n",
       "    </tr>\n",
       "    <tr>\n",
       "      <th>14</th>\n",
       "      <td>14</td>\n",
       "      <td>Own Home</td>\n",
       "      <td>2258796.0</td>\n",
       "      <td>7 years</td>\n",
       "      <td>0.0</td>\n",
       "      <td>11.0</td>\n",
       "      <td>17.7</td>\n",
       "      <td>1602546.0</td>\n",
       "      <td>0.0</td>\n",
       "      <td>NaN</td>\n",
       "      <td>0.0</td>\n",
       "      <td>other</td>\n",
       "      <td>Short Term</td>\n",
       "      <td>185262.0</td>\n",
       "      <td>1374327.0</td>\n",
       "      <td>58352.0</td>\n",
       "      <td>748.0</td>\n",
       "      <td>0</td>\n",
       "    </tr>\n",
       "    <tr>\n",
       "      <th>15</th>\n",
       "      <td>15</td>\n",
       "      <td>Rent</td>\n",
       "      <td>848464.0</td>\n",
       "      <td>10+ years</td>\n",
       "      <td>0.0</td>\n",
       "      <td>9.0</td>\n",
       "      <td>18.4</td>\n",
       "      <td>296186.0</td>\n",
       "      <td>0.0</td>\n",
       "      <td>NaN</td>\n",
       "      <td>0.0</td>\n",
       "      <td>debt consolidation</td>\n",
       "      <td>Short Term</td>\n",
       "      <td>145134.0</td>\n",
       "      <td>41439.0</td>\n",
       "      <td>12939.0</td>\n",
       "      <td>727.0</td>\n",
       "      <td>0</td>\n",
       "    </tr>\n",
       "    <tr>\n",
       "      <th>16</th>\n",
       "      <td>16</td>\n",
       "      <td>Rent</td>\n",
       "      <td>NaN</td>\n",
       "      <td>7 years</td>\n",
       "      <td>0.0</td>\n",
       "      <td>6.0</td>\n",
       "      <td>17.8</td>\n",
       "      <td>899492.0</td>\n",
       "      <td>0.0</td>\n",
       "      <td>NaN</td>\n",
       "      <td>0.0</td>\n",
       "      <td>debt consolidation</td>\n",
       "      <td>Long Term</td>\n",
       "      <td>313038.0</td>\n",
       "      <td>538346.0</td>\n",
       "      <td>18844.0</td>\n",
       "      <td>NaN</td>\n",
       "      <td>1</td>\n",
       "    </tr>\n",
       "    <tr>\n",
       "      <th>17</th>\n",
       "      <td>17</td>\n",
       "      <td>Home Mortgage</td>\n",
       "      <td>3361898.0</td>\n",
       "      <td>3 years</td>\n",
       "      <td>0.0</td>\n",
       "      <td>14.0</td>\n",
       "      <td>28.5</td>\n",
       "      <td>1042096.0</td>\n",
       "      <td>0.0</td>\n",
       "      <td>NaN</td>\n",
       "      <td>0.0</td>\n",
       "      <td>debt consolidation</td>\n",
       "      <td>Long Term</td>\n",
       "      <td>498872.0</td>\n",
       "      <td>689396.0</td>\n",
       "      <td>52249.0</td>\n",
       "      <td>644.0</td>\n",
       "      <td>1</td>\n",
       "    </tr>\n",
       "    <tr>\n",
       "      <th>18</th>\n",
       "      <td>18</td>\n",
       "      <td>Home Mortgage</td>\n",
       "      <td>1401744.0</td>\n",
       "      <td>2 years</td>\n",
       "      <td>0.0</td>\n",
       "      <td>9.0</td>\n",
       "      <td>29.0</td>\n",
       "      <td>387222.0</td>\n",
       "      <td>0.0</td>\n",
       "      <td>40.0</td>\n",
       "      <td>0.0</td>\n",
       "      <td>debt consolidation</td>\n",
       "      <td>Long Term</td>\n",
       "      <td>553586.0</td>\n",
       "      <td>201989.0</td>\n",
       "      <td>13434.0</td>\n",
       "      <td>695.0</td>\n",
       "      <td>1</td>\n",
       "    </tr>\n",
       "    <tr>\n",
       "      <th>19</th>\n",
       "      <td>19</td>\n",
       "      <td>Rent</td>\n",
       "      <td>1020072.0</td>\n",
       "      <td>2 years</td>\n",
       "      <td>0.0</td>\n",
       "      <td>6.0</td>\n",
       "      <td>12.5</td>\n",
       "      <td>199078.0</td>\n",
       "      <td>0.0</td>\n",
       "      <td>NaN</td>\n",
       "      <td>0.0</td>\n",
       "      <td>debt consolidation</td>\n",
       "      <td>Short Term</td>\n",
       "      <td>309672.0</td>\n",
       "      <td>120517.0</td>\n",
       "      <td>14451.0</td>\n",
       "      <td>712.0</td>\n",
       "      <td>1</td>\n",
       "    </tr>\n",
       "  </tbody>\n",
       "</table>\n",
       "</div>"
      ],
      "text/plain": [
       "    id home_ownership  annual_income years_in_current_job  tax_liens  number_of_open_accounts  years_of_credit_history  maximum_open_credit  number_of_credit_problems  months_since_last_delinquent  bankruptcies             purpose        term  current_loan_amount  current_credit_balance  monthly_debt  credit_score  credit_default\n",
       "0    0       Own Home       482087.0                  NaN        0.0                     11.0                     26.3             685960.0                        1.0                           NaN           1.0  debt consolidation  Short Term           99999999.0                 47386.0        7914.0         749.0               0\n",
       "1    1       Own Home      1025487.0            10+ years        0.0                     15.0                     15.3            1181730.0                        0.0                           NaN           0.0  debt consolidation   Long Term             264968.0                394972.0       18373.0         737.0               1\n",
       "2    2  Home Mortgage       751412.0              8 years        0.0                     11.0                     35.0            1182434.0                        0.0                           NaN           0.0  debt consolidation  Short Term           99999999.0                308389.0       13651.0         742.0               0\n",
       "3    3       Own Home       805068.0              6 years        0.0                      8.0                     22.5             147400.0                        1.0                           NaN           1.0  debt consolidation  Short Term             121396.0                 95855.0       11338.0         694.0               0\n",
       "4    4           Rent       776264.0              8 years        0.0                     13.0                     13.6             385836.0                        1.0                           NaN           0.0  debt consolidation  Short Term             125840.0                 93309.0        7180.0         719.0               0\n",
       "5    5           Rent            NaN              7 years        0.0                     12.0                     14.6             366784.0                        0.0                           NaN           0.0               other   Long Term             337304.0                165680.0       18692.0           NaN               1\n",
       "6    6  Home Mortgage      1511108.0            10+ years        0.0                      9.0                     20.3             388124.0                        0.0                          73.0           0.0   home improvements  Short Term           99999999.0                 51623.0        2317.0         745.0               0\n",
       "7    7           Rent      1040060.0            10+ years        0.0                     13.0                     12.0             330374.0                        0.0                          18.0           0.0               other  Short Term             250888.0                 89015.0       19761.0         705.0               1\n",
       "8    8  Home Mortgage            NaN              5 years        0.0                     17.0                     15.7                  0.0                        1.0                           NaN           1.0   home improvements  Short Term             129734.0                    19.0          17.0           NaN               0\n",
       "9    9  Home Mortgage            NaN               1 year        0.0                     10.0                     24.6             511302.0                        0.0                           6.0           0.0  debt consolidation   Long Term             572880.0                205333.0       17613.0           NaN               1\n",
       "10  10  Home Mortgage            NaN             < 1 year        0.0                      7.0                     11.5             256322.0                        0.0                           NaN           0.0  debt consolidation  Short Term             220858.0                187492.0       14592.0           NaN               0\n",
       "11  11  Home Mortgage      1828560.0              4 years        0.0                     12.0                     17.6             839080.0                        0.0                           NaN           0.0  debt consolidation  Short Term             441100.0                402914.0       15528.0         737.0               0\n",
       "12  12  Home Mortgage       933432.0            10+ years        0.0                      8.0                     14.0             443608.0                        0.0                           NaN           0.0  debt consolidation  Short Term             337766.0                315305.0       19446.0         706.0               0\n",
       "13  13           Rent      2066364.0            10+ years        0.0                     11.0                     17.7            1654026.0                        0.0                           NaN           0.0  debt consolidation   Long Term             549780.0               1037077.0       21869.0         728.0               1\n",
       "14  14       Own Home      2258796.0              7 years        0.0                     11.0                     17.7            1602546.0                        0.0                           NaN           0.0               other  Short Term             185262.0               1374327.0       58352.0         748.0               0\n",
       "15  15           Rent       848464.0            10+ years        0.0                      9.0                     18.4             296186.0                        0.0                           NaN           0.0  debt consolidation  Short Term             145134.0                 41439.0       12939.0         727.0               0\n",
       "16  16           Rent            NaN              7 years        0.0                      6.0                     17.8             899492.0                        0.0                           NaN           0.0  debt consolidation   Long Term             313038.0                538346.0       18844.0           NaN               1\n",
       "17  17  Home Mortgage      3361898.0              3 years        0.0                     14.0                     28.5            1042096.0                        0.0                           NaN           0.0  debt consolidation   Long Term             498872.0                689396.0       52249.0         644.0               1\n",
       "18  18  Home Mortgage      1401744.0              2 years        0.0                      9.0                     29.0             387222.0                        0.0                          40.0           0.0  debt consolidation   Long Term             553586.0                201989.0       13434.0         695.0               1\n",
       "19  19           Rent      1020072.0              2 years        0.0                      6.0                     12.5             199078.0                        0.0                           NaN           0.0  debt consolidation  Short Term             309672.0                120517.0       14451.0         712.0               1"
      ]
     },
     "execution_count": 11,
     "metadata": {},
     "output_type": "execute_result"
    }
   ],
   "source": [
    "loan_df.head(20)"
   ]
  },
  {
   "cell_type": "code",
   "execution_count": 12,
   "id": "a8f8aeb0",
   "metadata": {
    "ExecuteTime": {
     "end_time": "2022-04-16T22:39:49.909890Z",
     "start_time": "2022-04-16T22:39:49.724683Z"
    }
   },
   "outputs": [],
   "source": [
    "loan_df.fillna(0, inplace = True)"
   ]
  },
  {
   "cell_type": "code",
   "execution_count": 13,
   "id": "bd00380b",
   "metadata": {
    "ExecuteTime": {
     "end_time": "2022-04-16T22:39:50.126042Z",
     "start_time": "2022-04-16T22:39:49.914638Z"
    }
   },
   "outputs": [
    {
     "data": {
      "text/plain": [
       "id                              0\n",
       "home_ownership                  0\n",
       "annual_income                   0\n",
       "years_in_current_job            0\n",
       "tax_liens                       0\n",
       "number_of_open_accounts         0\n",
       "years_of_credit_history         0\n",
       "maximum_open_credit             0\n",
       "number_of_credit_problems       0\n",
       "months_since_last_delinquent    0\n",
       "bankruptcies                    0\n",
       "purpose                         0\n",
       "term                            0\n",
       "current_loan_amount             0\n",
       "current_credit_balance          0\n",
       "monthly_debt                    0\n",
       "credit_score                    0\n",
       "credit_default                  0\n",
       "dtype: int64"
      ]
     },
     "execution_count": 13,
     "metadata": {},
     "output_type": "execute_result"
    }
   ],
   "source": [
    "loan_df.isnull().sum() "
   ]
  },
  {
   "cell_type": "markdown",
   "id": "b5a368ef",
   "metadata": {
    "ExecuteTime": {
     "end_time": "2022-04-16T19:06:29.214263Z",
     "start_time": "2022-04-16T19:06:29.209203Z"
    }
   },
   "source": [
    "### Inspecting categorical columns"
   ]
  },
  {
   "cell_type": "code",
   "execution_count": 14,
   "id": "c149923b",
   "metadata": {
    "ExecuteTime": {
     "end_time": "2022-04-16T22:39:50.372479Z",
     "start_time": "2022-04-16T22:39:50.130727Z"
    }
   },
   "outputs": [
    {
     "name": "stdout",
     "output_type": "stream",
     "text": [
      "Feature Name:  home_ownership\n",
      "Home Mortgage    3637\n",
      "Rent             3204\n",
      "Own Home          647\n",
      "Have Mortgage      12\n",
      "Name: home_ownership, dtype: int64\n",
      "=========================\n",
      "Feature Name:  years_in_current_job\n",
      "10+ years    2332\n",
      "2 years       705\n",
      "3 years       620\n",
      "< 1 year      563\n",
      "5 years       516\n",
      "1 year        504\n",
      "4 years       469\n",
      "6 years       426\n",
      "7 years       396\n",
      "0             371\n",
      "8 years       339\n",
      "9 years       259\n",
      "Name: years_in_current_job, dtype: int64\n",
      "=========================\n",
      "Feature Name:  purpose\n",
      "debt consolidation      5944\n",
      "other                    665\n",
      "home improvements        412\n",
      "business loan            129\n",
      "buy a car                 96\n",
      "medical bills             71\n",
      "major purchase            40\n",
      "take a trip               37\n",
      "buy house                 34\n",
      "small business            26\n",
      "wedding                   15\n",
      "moving                    11\n",
      "educational expenses      10\n",
      "vacation                   8\n",
      "renewable energy           2\n",
      "Name: purpose, dtype: int64\n",
      "=========================\n",
      "Feature Name:  term\n",
      "Short Term    5556\n",
      "Long Term     1944\n",
      "Name: term, dtype: int64\n",
      "=========================\n"
     ]
    }
   ],
   "source": [
    "for col in cat_cols:\n",
    "    print('Feature Name: ', col)\n",
    "    print(loan_df[col].value_counts())\n",
    "    print (\"=========================\")"
   ]
  },
  {
   "cell_type": "code",
   "execution_count": 15,
   "id": "64407130",
   "metadata": {
    "ExecuteTime": {
     "end_time": "2022-04-16T22:39:51.501840Z",
     "start_time": "2022-04-16T22:39:50.374322Z"
    }
   },
   "outputs": [
    {
     "data": {
      "text/plain": [
       "10+     2332\n",
       "2        705\n",
       "3        620\n",
       "< 1      563\n",
       "5        516\n",
       "1        504\n",
       "4        469\n",
       "6        426\n",
       "7        396\n",
       "0        371\n",
       "8        339\n",
       "9        259\n",
       "Name: years_in_current_job, dtype: int64"
      ]
     },
     "execution_count": 15,
     "metadata": {},
     "output_type": "execute_result"
    }
   ],
   "source": [
    "# Stripping the word years\n",
    "loan_df[\"years_in_current_job\"] = loan_df[\"years_in_current_job\"].apply(lambda x: str(x).strip(\"years\"))\n",
    "loan_df[\"years_in_current_job\"].value_counts()"
   ]
  },
  {
   "cell_type": "markdown",
   "id": "68a6ab6a",
   "metadata": {},
   "source": [
    "### Visualizing categorical columns"
   ]
  },
  {
   "cell_type": "code",
   "execution_count": 16,
   "id": "8d8a3f4c",
   "metadata": {
    "ExecuteTime": {
     "end_time": "2022-04-16T22:39:52.695207Z",
     "start_time": "2022-04-16T22:39:51.504574Z"
    },
    "scrolled": false
   },
   "outputs": [
    {
     "data": {
      "image/png": "[encoded data removed]",
      "text/plain": [
       "<Figure size 1080x720 with 4 Axes>"
      ]
     },
     "metadata": {
      "needs_background": "light"
     },
     "output_type": "display_data"
    }
   ],
   "source": [
    "plt.figure(figsize=(15,10))\n",
    "for i, col_name in enumerate(cat_cols):\n",
    "    ax = plt.subplot(2,2,i+1)\n",
    "    sns.countplot(x = col_name, data=loan_df, palette='rainbow')\n",
    "    plt.xticks(rotation = 90)"
   ]
  },
  {
   "cell_type": "markdown",
   "id": "fd034d1b",
   "metadata": {},
   "source": [
    "### Inspecting numerical columns"
   ]
  },
  {
   "cell_type": "code",
   "execution_count": 17,
   "id": "0638507e",
   "metadata": {
    "ExecuteTime": {
     "end_time": "2022-04-16T22:39:52.772837Z",
     "start_time": "2022-04-16T22:39:52.697163Z"
    }
   },
   "outputs": [
    {
     "data": {
      "text/html": [
       "<div>\n",
       "<style scoped>\n",
       "    .dataframe tbody tr th:only-of-type {\n",
       "        vertical-align: middle;\n",
       "    }\n",
       "\n",
       "    .dataframe tbody tr th {\n",
       "        vertical-align: top;\n",
       "    }\n",
       "\n",
       "    .dataframe thead th {\n",
       "        text-align: right;\n",
       "    }\n",
       "</style>\n",
       "<table border=\"1\" class=\"dataframe\">\n",
       "  <thead>\n",
       "    <tr style=\"text-align: right;\">\n",
       "      <th></th>\n",
       "      <th>id</th>\n",
       "      <th>annual_income</th>\n",
       "      <th>tax_liens</th>\n",
       "      <th>number_of_open_accounts</th>\n",
       "      <th>years_of_credit_history</th>\n",
       "      <th>maximum_open_credit</th>\n",
       "      <th>number_of_credit_problems</th>\n",
       "      <th>months_since_last_delinquent</th>\n",
       "      <th>bankruptcies</th>\n",
       "      <th>current_loan_amount</th>\n",
       "      <th>current_credit_balance</th>\n",
       "      <th>monthly_debt</th>\n",
       "      <th>credit_score</th>\n",
       "      <th>credit_default</th>\n",
       "    </tr>\n",
       "  </thead>\n",
       "  <tbody>\n",
       "    <tr>\n",
       "      <th>count</th>\n",
       "      <td>7500.000000</td>\n",
       "      <td>7.500000e+03</td>\n",
       "      <td>7500.000000</td>\n",
       "      <td>7500.000000</td>\n",
       "      <td>7500.000000</td>\n",
       "      <td>7.500000e+03</td>\n",
       "      <td>7500.000000</td>\n",
       "      <td>7500.000000</td>\n",
       "      <td>7500.000000</td>\n",
       "      <td>7.500000e+03</td>\n",
       "      <td>7.500000e+03</td>\n",
       "      <td>7500.000000</td>\n",
       "      <td>7500.000000</td>\n",
       "      <td>7500.000000</td>\n",
       "    </tr>\n",
       "    <tr>\n",
       "      <th>mean</th>\n",
       "      <td>3749.500000</td>\n",
       "      <td>1.082729e+06</td>\n",
       "      <td>0.030133</td>\n",
       "      <td>11.130933</td>\n",
       "      <td>18.317467</td>\n",
       "      <td>9.451537e+05</td>\n",
       "      <td>0.170000</td>\n",
       "      <td>15.815200</td>\n",
       "      <td>0.116933</td>\n",
       "      <td>1.187318e+07</td>\n",
       "      <td>2.898332e+05</td>\n",
       "      <td>18314.454133</td>\n",
       "      <td>912.121733</td>\n",
       "      <td>0.281733</td>\n",
       "    </tr>\n",
       "    <tr>\n",
       "      <th>std</th>\n",
       "      <td>2165.207842</td>\n",
       "      <td>9.345581e+05</td>\n",
       "      <td>0.271604</td>\n",
       "      <td>4.908924</td>\n",
       "      <td>7.041946</td>\n",
       "      <td>1.602622e+07</td>\n",
       "      <td>0.498598</td>\n",
       "      <td>22.649441</td>\n",
       "      <td>0.346904</td>\n",
       "      <td>3.192612e+07</td>\n",
       "      <td>3.178714e+05</td>\n",
       "      <td>11926.764673</td>\n",
       "      <td>1502.588014</td>\n",
       "      <td>0.449874</td>\n",
       "    </tr>\n",
       "    <tr>\n",
       "      <th>min</th>\n",
       "      <td>0.000000</td>\n",
       "      <td>0.000000e+00</td>\n",
       "      <td>0.000000</td>\n",
       "      <td>2.000000</td>\n",
       "      <td>4.000000</td>\n",
       "      <td>0.000000e+00</td>\n",
       "      <td>0.000000</td>\n",
       "      <td>0.000000</td>\n",
       "      <td>0.000000</td>\n",
       "      <td>1.124200e+04</td>\n",
       "      <td>0.000000e+00</td>\n",
       "      <td>0.000000</td>\n",
       "      <td>0.000000</td>\n",
       "      <td>0.000000</td>\n",
       "    </tr>\n",
       "    <tr>\n",
       "      <th>25%</th>\n",
       "      <td>1874.750000</td>\n",
       "      <td>5.327268e+05</td>\n",
       "      <td>0.000000</td>\n",
       "      <td>8.000000</td>\n",
       "      <td>13.500000</td>\n",
       "      <td>2.792295e+05</td>\n",
       "      <td>0.000000</td>\n",
       "      <td>0.000000</td>\n",
       "      <td>0.000000</td>\n",
       "      <td>1.801690e+05</td>\n",
       "      <td>1.142565e+05</td>\n",
       "      <td>10067.500000</td>\n",
       "      <td>667.000000</td>\n",
       "      <td>0.000000</td>\n",
       "    </tr>\n",
       "    <tr>\n",
       "      <th>50%</th>\n",
       "      <td>3749.500000</td>\n",
       "      <td>9.891305e+05</td>\n",
       "      <td>0.000000</td>\n",
       "      <td>10.000000</td>\n",
       "      <td>17.000000</td>\n",
       "      <td>4.781590e+05</td>\n",
       "      <td>0.000000</td>\n",
       "      <td>0.000000</td>\n",
       "      <td>0.000000</td>\n",
       "      <td>3.095730e+05</td>\n",
       "      <td>2.093230e+05</td>\n",
       "      <td>16076.500000</td>\n",
       "      <td>722.000000</td>\n",
       "      <td>0.000000</td>\n",
       "    </tr>\n",
       "    <tr>\n",
       "      <th>75%</th>\n",
       "      <td>5624.250000</td>\n",
       "      <td>1.499974e+06</td>\n",
       "      <td>0.000000</td>\n",
       "      <td>14.000000</td>\n",
       "      <td>21.800000</td>\n",
       "      <td>7.935015e+05</td>\n",
       "      <td>0.000000</td>\n",
       "      <td>29.000000</td>\n",
       "      <td>0.000000</td>\n",
       "      <td>5.198820e+05</td>\n",
       "      <td>3.604062e+05</td>\n",
       "      <td>23818.000000</td>\n",
       "      <td>740.000000</td>\n",
       "      <td>1.000000</td>\n",
       "    </tr>\n",
       "    <tr>\n",
       "      <th>max</th>\n",
       "      <td>7499.000000</td>\n",
       "      <td>1.014934e+07</td>\n",
       "      <td>7.000000</td>\n",
       "      <td>43.000000</td>\n",
       "      <td>57.700000</td>\n",
       "      <td>1.304726e+09</td>\n",
       "      <td>7.000000</td>\n",
       "      <td>118.000000</td>\n",
       "      <td>4.000000</td>\n",
       "      <td>1.000000e+08</td>\n",
       "      <td>6.506797e+06</td>\n",
       "      <td>136679.000000</td>\n",
       "      <td>7510.000000</td>\n",
       "      <td>1.000000</td>\n",
       "    </tr>\n",
       "  </tbody>\n",
       "</table>\n",
       "</div>"
      ],
      "text/plain": [
       "                id  annual_income    tax_liens  number_of_open_accounts  years_of_credit_history  maximum_open_credit  number_of_credit_problems  months_since_last_delinquent  bankruptcies  current_loan_amount  current_credit_balance   monthly_debt  credit_score  credit_default\n",
       "count  7500.000000   7.500000e+03  7500.000000              7500.000000              7500.000000         7.500000e+03                7500.000000                   7500.000000   7500.000000         7.500000e+03            7.500000e+03    7500.000000   7500.000000     7500.000000\n",
       "mean   3749.500000   1.082729e+06     0.030133                11.130933                18.317467         9.451537e+05                   0.170000                     15.815200      0.116933         1.187318e+07            2.898332e+05   18314.454133    912.121733        0.281733\n",
       "std    2165.207842   9.345581e+05     0.271604                 4.908924                 7.041946         1.602622e+07                   0.498598                     22.649441      0.346904         3.192612e+07            3.178714e+05   11926.764673   1502.588014        0.449874\n",
       "min       0.000000   0.000000e+00     0.000000                 2.000000                 4.000000         0.000000e+00                   0.000000                      0.000000      0.000000         1.124200e+04            0.000000e+00       0.000000      0.000000        0.000000\n",
       "25%    1874.750000   5.327268e+05     0.000000                 8.000000                13.500000         2.792295e+05                   0.000000                      0.000000      0.000000         1.801690e+05            1.142565e+05   10067.500000    667.000000        0.000000\n",
       "50%    3749.500000   9.891305e+05     0.000000                10.000000                17.000000         4.781590e+05                   0.000000                      0.000000      0.000000         3.095730e+05            2.093230e+05   16076.500000    722.000000        0.000000\n",
       "75%    5624.250000   1.499974e+06     0.000000                14.000000                21.800000         7.935015e+05                   0.000000                     29.000000      0.000000         5.198820e+05            3.604062e+05   23818.000000    740.000000        1.000000\n",
       "max    7499.000000   1.014934e+07     7.000000                43.000000                57.700000         1.304726e+09                   7.000000                    118.000000      4.000000         1.000000e+08            6.506797e+06  136679.000000   7510.000000        1.000000"
      ]
     },
     "execution_count": 17,
     "metadata": {},
     "output_type": "execute_result"
    }
   ],
   "source": [
    "loan_df[num_cols].describe()"
   ]
  },
  {
   "cell_type": "markdown",
   "id": "b2fe74c6",
   "metadata": {
    "ExecuteTime": {
     "end_time": "2022-04-16T20:20:45.183364Z",
     "start_time": "2022-04-16T20:20:45.175277Z"
    }
   },
   "source": [
    "### Visualize numerical columns"
   ]
  },
  {
   "cell_type": "code",
   "execution_count": 18,
   "id": "acd8c46d",
   "metadata": {
    "ExecuteTime": {
     "end_time": "2022-04-16T22:39:57.058264Z",
     "start_time": "2022-04-16T22:39:52.774709Z"
    }
   },
   "outputs": [
    {
     "data": {
      "image/png": "[encoded data removed]",
      "text/plain": [
       "<Figure size 720x1440 with 14 Axes>"
      ]
     },
     "metadata": {
      "needs_background": "light"
     },
     "output_type": "display_data"
    }
   ],
   "source": [
    "plt.figure(figsize=(10, 20))\n",
    "for i, col_name in enumerate(num_cols):\n",
    "    ax = plt.subplot(7,2,i+1)\n",
    "    sns.boxplot(x = col_name, data=loan_df)\n",
    "    plt.xticks(rotation = 90)\n",
    "    plt.tight_layout()"
   ]
  },
  {
   "cell_type": "markdown",
   "id": "962b55dc",
   "metadata": {},
   "source": [
    "## Pre-processing "
   ]
  },
  {
   "cell_type": "markdown",
   "id": "5ccc2534",
   "metadata": {},
   "source": [
    "### Creating dummy variables\n"
   ]
  },
  {
   "cell_type": "code",
   "execution_count": 19,
   "id": "d671c46b",
   "metadata": {
    "ExecuteTime": {
     "end_time": "2022-04-16T22:39:57.089113Z",
     "start_time": "2022-04-16T22:39:57.060157Z"
    },
    "scrolled": false
   },
   "outputs": [],
   "source": [
    "# Create dummies\n",
    "loan_cat_df = pd.get_dummies(loan_df[cat_cols], drop_first=True)\n",
    "\n",
    "# # Add dummy columns\n",
    "loan_df = pd.concat([loan_df, loan_cat_df, ], axis=1)\n",
    "\n",
    "# Drop original columns\n",
    "loan_df.drop(cat_cols, axis=1, inplace=True)"
   ]
  },
  {
   "cell_type": "code",
   "execution_count": 20,
   "id": "af092ac3",
   "metadata": {
    "ExecuteTime": {
     "end_time": "2022-04-16T22:39:57.322142Z",
     "start_time": "2022-04-16T22:39:57.091107Z"
    }
   },
   "outputs": [],
   "source": [
    "X = loan_df.drop([\"id\",\"credit_default\"], axis=1)\n",
    "y = loan_df[\"credit_default\"]"
   ]
  },
  {
   "cell_type": "markdown",
   "id": "61ad2783",
   "metadata": {},
   "source": [
    "### Test - Train split\n"
   ]
  },
  {
   "cell_type": "code",
   "execution_count": 21,
   "id": "a0282af2",
   "metadata": {
    "ExecuteTime": {
     "end_time": "2022-04-16T22:39:57.695482Z",
     "start_time": "2022-04-16T22:39:57.326061Z"
    }
   },
   "outputs": [],
   "source": [
    "# Test-Train Split\n",
    "X_train, X_test, y_train, y_test = train_test_split(X, y, train_size=0.7, test_size=0.3, random_state=100)"
   ]
  },
  {
   "cell_type": "markdown",
   "id": "c89b5cb7",
   "metadata": {},
   "source": [
    "## Model"
   ]
  },
  {
   "cell_type": "code",
   "execution_count": 25,
   "id": "7e02c119",
   "metadata": {
    "ExecuteTime": {
     "end_time": "2022-04-16T22:39:59.104777Z",
     "start_time": "2022-04-16T22:39:58.334268Z"
    }
   },
   "outputs": [
    {
     "data": {
      "text/plain": [
       "RandomForestClassifier(random_state=100)"
      ]
     },
     "execution_count": 25,
     "metadata": {},
     "output_type": "execute_result"
    }
   ],
   "source": [
    "rf = RandomForestClassifier(random_state=100)\n",
    "rf.fit(X_train, y_train)"
   ]
  },
  {
   "cell_type": "code",
   "execution_count": 26,
   "id": "906f3e23",
   "metadata": {
    "ExecuteTime": {
     "end_time": "2022-04-16T22:39:59.245324Z",
     "start_time": "2022-04-16T22:39:59.106792Z"
    }
   },
   "outputs": [
    {
     "data": {
      "text/plain": [
       "LogisticRegression(random_state=100)"
      ]
     },
     "execution_count": 26,
     "metadata": {},
     "output_type": "execute_result"
    }
   ],
   "source": [
    "lr = LogisticRegression(random_state=100)\n",
    "lr.fit(X_train,y_train)"
   ]
  },
  {
   "cell_type": "code",
   "execution_count": 27,
   "id": "24becdda",
   "metadata": {
    "ExecuteTime": {
     "end_time": "2022-04-16T22:39:59.261226Z",
     "start_time": "2022-04-16T22:39:59.247074Z"
    }
   },
   "outputs": [],
   "source": [
    "# Creating a function to test the train and test set model performance\n",
    "def evaluate_model(classifier):\n",
    "    y_train_pred = classifier.predict(X_train)\n",
    "    y_test_pred = classifier.predict(X_test)\n",
    "    print('Performance for Train set')\n",
    "    print('AUC- ROC score ', roc_auc_score(y_train,y_train_pred))\n",
    "    print(\"F-1 score: \", f1_score(y_train,y_train_pred))\n",
    "    print(\"Accuracy score: \", accuracy_score(y_train,y_train_pred))\n",
    "    print(\"-\"*50)\n",
    "    print('Performance for Test set')\n",
    "    print('AUC- ROC score ', roc_auc_score(y_test,y_test_pred))\n",
    "    print(\"F-1 score: \", f1_score(y_test,y_test_pred))\n",
    "    print(\"Accuracy score: \", accuracy_score(y_test,y_test_pred))"
   ]
  },
  {
   "cell_type": "code",
   "execution_count": 28,
   "id": "1d786d82",
   "metadata": {
    "ExecuteTime": {
     "end_time": "2022-04-16T22:39:59.539126Z",
     "start_time": "2022-04-16T22:39:59.263220Z"
    }
   },
   "outputs": [
    {
     "name": "stdout",
     "output_type": "stream",
     "text": [
      "Performance for Train set\n",
      "AUC- ROC score  1.0\n",
      "F-1 score:  1.0\n",
      "Accuracy score:  1.0\n",
      "--------------------------------------------------\n",
      "Performance for Test set\n",
      "AUC- ROC score  1.0\n",
      "F-1 score:  1.0\n",
      "Accuracy score:  1.0\n"
     ]
    }
   ],
   "source": [
    "evaluate_model(rf)"
   ]
  },
  {
   "cell_type": "code",
   "execution_count": 29,
   "id": "452ccf30",
   "metadata": {
    "ExecuteTime": {
     "end_time": "2022-04-16T22:39:59.584630Z",
     "start_time": "2022-04-16T22:39:59.541150Z"
    }
   },
   "outputs": [
    {
     "name": "stdout",
     "output_type": "stream",
     "text": [
      "Performance for Train set\n",
      "AUC- ROC score  0.5944520193828312\n",
      "F-1 score:  0.32723239046034386\n",
      "Accuracy score:  0.7689523809523809\n",
      "--------------------------------------------------\n",
      "Performance for Test set\n",
      "AUC- ROC score  0.5922572212333066\n",
      "F-1 score:  0.3182957393483709\n",
      "Accuracy score:  0.7582222222222222\n"
     ]
    }
   ],
   "source": [
    "evaluate_model(lr)"
   ]
  },
  {
   "cell_type": "code",
   "execution_count": 30,
   "id": "6aedf201",
   "metadata": {
    "ExecuteTime": {
     "end_time": "2022-04-16T22:39:59.740932Z",
     "start_time": "2022-04-16T22:39:59.588340Z"
    }
   },
   "outputs": [
    {
     "data": {
      "text/plain": [
       "DecisionTreeClassifier(random_state=100)"
      ]
     },
     "execution_count": 30,
     "metadata": {},
     "output_type": "execute_result"
    }
   ],
   "source": [
    "dc = DecisionTreeClassifier(random_state=100)\n",
    "dc.fit(X_train, y_train)"
   ]
  },
  {
   "cell_type": "code",
   "execution_count": 31,
   "id": "9841966f",
   "metadata": {
    "ExecuteTime": {
     "end_time": "2022-04-16T22:39:59.973205Z",
     "start_time": "2022-04-16T22:39:59.742540Z"
    }
   },
   "outputs": [
    {
     "name": "stdout",
     "output_type": "stream",
     "text": [
      "Performance for Train set\n",
      "AUC- ROC score  1.0\n",
      "F-1 score:  1.0\n",
      "Accuracy score:  1.0\n",
      "--------------------------------------------------\n",
      "Performance for Test set\n",
      "AUC- ROC score  1.0\n",
      "F-1 score:  1.0\n",
      "Accuracy score:  1.0\n"
     ]
    }
   ],
   "source": [
    "evaluate_model(dc)"
   ]
  },
  {
   "cell_type": "code",
   "execution_count": null,
   "id": "a03fbd19",
   "metadata": {},
   "outputs": [],
   "source": []
  }
 ],
 "metadata": {
  "kernelspec": {
   "display_name": "Python 3",
   "language": "python",
   "name": "python3"
  },
  "language_info": {
   "codemirror_mode": {
    "name": "ipython",
    "version": 3
   },
   "file_extension": ".py",
   "mimetype": "text/x-python",
   "name": "python",
   "nbconvert_exporter": "python",
   "pygments_lexer": "ipython3",
   "version": "3.8.8"
  },
  "toc": {
   "base_numbering": 1,
   "nav_menu": {},
   "number_sections": true,
   "sideBar": true,
   "skip_h1_title": false,
   "title_cell": "Table of Contents",
   "title_sidebar": "Contents",
   "toc_cell": false,
   "toc_position": {
    "height": "calc(100% - 180px)",
    "left": "10px",
    "top": "150px",
    "width": "364.25px"
   },
   "toc_section_display": true,
   "toc_window_display": true
  }
 },
 "nbformat": 4,
 "nbformat_minor": 5
}
