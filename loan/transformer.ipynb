{
 "cells": [
  {
   "cell_type": "code",
   "execution_count": null,
   "id": "3f12a9a9",
   "metadata": {},
   "outputs": [],
   "source": [
    "import json\n",
    "import numpy as np\n",
    "import requests\n",
    "import kfserving\n",
    "import argparse\n",
    "from typing import List, Dict\n",
    "import logging\n",
    "import io\n",
    "import base64\n",
    "import sys, json\n",
    "import os\n",
    "import pandas as pd"
   ]
  },
  {
   "cell_type": "code",
   "execution_count": null,
   "id": "9b3ce847",
   "metadata": {},
   "outputs": [],
   "source": [
    "DEFAULT_MODEL_NAME = \"model\""
   ]
  },
  {
   "cell_type": "code",
   "execution_count": null,
   "id": "22c35eb3",
   "metadata": {},
   "outputs": [],
   "source": [
    "parser = argparse.ArgumentParser(parents=[kfserving.kfserver.parser])\n",
    "parser.add_argument(\n",
    "    \"--model_name\",\n",
    "    default=DEFAULT_MODEL_NAME,\n",
    "    help=\"The name that the model is served under.\",\n",
    ")\n",
    "parser.add_argument(\n",
    "    \"--predictor_host\", help=\"The URL for the model predict function\", required=True\n",
    ")"
   ]
  },
  {
   "cell_type": "code",
   "execution_count": null,
   "id": "c246c491",
   "metadata": {},
   "outputs": [],
   "source": [
    "args, _ = parser.parse_known_args()"
   ]
  },
  {
   "cell_type": "code",
   "execution_count": null,
   "id": "56cc9df8",
   "metadata": {},
   "outputs": [],
   "source": [
    "filename = \"/tmp/temp.csv\""
   ]
  },
  {
   "cell_type": "code",
   "execution_count": null,
   "id": "0ac996f6",
   "metadata": {},
   "outputs": [],
   "source": [
    "class Transformer(kfserving.KFModel):\n",
    "    def __init__(self, name: str, predictor_host: str):\n",
    "        super().__init__(name)\n",
    "        self.predictor_host = predictor_host\n",
    "    def preprocess(self, inputs: Dict) -> Dict:\n",
    "        # inputs is a json file, inside that data, using the data value form a image\n",
    "        # write into jpeg file\n",
    "        del inputs[\"instances\"]\n",
    "        logging.info(\"prep =======> %s\", str(type(inputs)))\n",
    "        try:\n",
    "            json_data = inputs\n",
    "        except ValueError:\n",
    "            return json.dumps({\"error\": \"Recieved invalid json\"})\n",
    "        data = json_data[\"signatures\"][\"inputs\"][0][0][\"data\"]\n",
    "        with open(filename, \"w\") as f:\n",
    "            f.write(data)\n",
    "        data = pd.read_csv(filename)\n",
    "        payload = {\"instances\": data.values.tolist(), \"token\": inputs[\"token\"]}\n",
    "        logging.info(\"token =======> %s\", str(inputs[\"token\"]))\n",
    "        return payload\n",
    "    def postprocess(self, predictions: List) -> List:\n",
    "        logging.info(\"prep =======> %s\", str(type(predictions)))\n",
    "        preds = predictions[\"predictions\"]\n",
    "        res = f'Your insurance charges would be: ${round(preds[0],2)}'\n",
    "        return {\"result\": res}"
   ]
  },
  {
   "cell_type": "code",
   "execution_count": null,
   "id": "c023ba1f",
   "metadata": {},
   "outputs": [],
   "source": [
    "if __name__ == \"__main__\":\n",
    "    transformer = Transformer(args.model_name, predictor_host=args.predictor_host)\n",
    "    kfserver = kfserving.KFServer()\n",
    "    kfserver.start(models=[transformer])"
   ]
  },
  {
   "cell_type": "code",
   "execution_count": null,
   "id": "9f25410d",
   "metadata": {},
   "outputs": [],
   "source": []
  }
 ],
 "metadata": {
  "kernelspec": {
   "display_name": "Python 3",
   "language": "python",
   "name": "python3"
  },
  "language_info": {
   "codemirror_mode": {
    "name": "ipython",
    "version": 3
   },
   "file_extension": ".py",
   "mimetype": "text/x-python",
   "name": "python",
   "nbconvert_exporter": "python",
   "pygments_lexer": "ipython3",
   "version": "3.8.8"
  },
  "toc": {
   "base_numbering": 1,
   "nav_menu": {},
   "number_sections": true,
   "sideBar": true,
   "skip_h1_title": false,
   "title_cell": "Table of Contents",
   "title_sidebar": "Contents",
   "toc_cell": false,
   "toc_position": {},
   "toc_section_display": true,
   "toc_window_display": false
  }
 },
 "nbformat": 4,
 "nbformat_minor": 5
}
