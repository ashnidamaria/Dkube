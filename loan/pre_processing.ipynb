{
 "cells": [
  {
   "cell_type": "code",
   "execution_count": 1,
   "id": "7049c117",
   "metadata": {
    "ExecuteTime": {
     "end_time": "2022-04-16T22:47:35.829402Z",
     "start_time": "2022-04-16T22:47:33.130941Z"
    }
   },
   "outputs": [
    {
     "ename": "ModuleNotFoundError",
     "evalue": "No module named 'dkube'",
     "output_type": "error",
     "traceback": [
      "\u001b[1;31m---------------------------------------------------------------------------\u001b[0m",
      "\u001b[1;31mModuleNotFoundError\u001b[0m                       Traceback (most recent call last)",
      "\u001b[1;32m<ipython-input-1-225fac4d0fe0>\u001b[0m in \u001b[0;36m<module>\u001b[1;34m\u001b[0m\n\u001b[0;32m      6\u001b[0m \u001b[1;32mfrom\u001b[0m \u001b[0msklearn\u001b[0m \u001b[1;32mimport\u001b[0m \u001b[0mpreprocessing\u001b[0m \u001b[1;32mas\u001b[0m \u001b[0mskpreprocessing\u001b[0m\u001b[1;33m\u001b[0m\u001b[1;33m\u001b[0m\u001b[0m\n\u001b[0;32m      7\u001b[0m \u001b[1;33m\u001b[0m\u001b[0m\n\u001b[1;32m----> 8\u001b[1;33m \u001b[1;32mfrom\u001b[0m \u001b[0mdkube\u001b[0m\u001b[1;33m.\u001b[0m\u001b[0msdk\u001b[0m \u001b[1;32mimport\u001b[0m \u001b[1;33m*\u001b[0m\u001b[1;33m\u001b[0m\u001b[1;33m\u001b[0m\u001b[0m\n\u001b[0m",
      "\u001b[1;31mModuleNotFoundError\u001b[0m: No module named 'dkube'"
     ]
    }
   ],
   "source": [
    "import numpy as np\n",
    "import pandas as pd\n",
    "import os\n",
    "import argparse\n",
    "import yaml\n",
    "from sklearn import preprocessing as skpreprocessing\n",
    "\n",
    "from dkube.sdk import *"
   ]
  },
  {
   "cell_type": "code",
   "execution_count": null,
   "id": "bcde44de",
   "metadata": {},
   "outputs": [],
   "source": [
    "inp_dir = \"/opt/dkube/in\"\n",
    "out_path = \"/opt/dkube/out\""
   ]
  },
  {
   "cell_type": "code",
   "execution_count": null,
   "id": "c382a5f0",
   "metadata": {},
   "outputs": [],
   "source": [
    "if __name__ == \"__main__\":\n",
    "\n",
    "    ########--- Parse for parameters ---########\n",
    "\n",
    "    parser = argparse.ArgumentParser()\n",
    "    parser.add_argument(\"--url\", dest=\"url\", default=None, type=str, help=\"setup URL\")\n",
    "    parser.add_argument(\"--fs\", dest=\"fs\", required=True, type=str, help=\"featureset\")\n",
    "\n",
    "    global FLAGS\n",
    "    FLAGS, unparsed = parser.parse_known_args()\n",
    "    fs = FLAGS.fs\n",
    "\n",
    "    ########--- Get DKube client handle ---########\n",
    "\n",
    "    dkubeURL = FLAGS.url\n",
    "    # Dkube user access token for API authentication\n",
    "    authToken = os.getenv(\"DKUBE_USER_ACCESS_TOKEN\")\n",
    "    # Get client handle\n",
    "    api = DkubeApi(URL=dkubeURL, token=authToken)\n",
    "\n",
    "    ########--- Extract and load data  ---######\n",
    "    \n",
    "    loan = pd.read_csv(os.path.join(inp_dir, \"train.csv\"))\n",
    "\n",
    "    ########--- Feature Engineering ---#######\n",
    "    \n",
    "    loan.columns = [(\"_\".join(col.split(\" \"))).lower() for col in loan.columns]\n",
    "    cat_cols = loan.select_dtypes(\"object\").columns.to_list()\n",
    "    num_cols = loan.select_dtypes([\"float64\", \"int64\"]).columns.to_list()\n",
    "    loan.fillna(0, inplace = True)\n",
    "    loan[\"years_in_current_job\"] = loan[\"years_in_current_job\"].apply(lambda x: str(x).strip(\"years\"))\n",
    "    # Create dummies\n",
    "    loan_cat_df = pd.get_dummies(loan[cat_cols], drop_first=True)\n",
    "\n",
    "    # # Add dummy columns\n",
    "    loan = pd.concat([loan, loan_cat_df, ], axis=1)\n",
    "\n",
    "    # Drop original columns\n",
    "    loan.drop(cat_cols, axis=1, inplace=True)\n",
    "    \n",
    "    print (\"Pre-processing completed\")\n",
    "\n",
    "    # Commit featureset\n",
    "    resp = api.commit_featureset(name=fs, df=loan)\n",
    "    print(\"featureset commit response:\", resp)"
   ]
  },
  {
   "cell_type": "code",
   "execution_count": null,
   "id": "4143d2a3",
   "metadata": {},
   "outputs": [],
   "source": []
  },
  {
   "cell_type": "code",
   "execution_count": null,
   "id": "8137f907",
   "metadata": {},
   "outputs": [],
   "source": []
  }
 ],
 "metadata": {
  "kernelspec": {
   "display_name": "Python 3",
   "language": "python",
   "name": "python3"
  },
  "language_info": {
   "codemirror_mode": {
    "name": "ipython",
    "version": 3
   },
   "file_extension": ".py",
   "mimetype": "text/x-python",
   "name": "python",
   "nbconvert_exporter": "python",
   "pygments_lexer": "ipython3",
   "version": "3.8.8"
  },
  "toc": {
   "base_numbering": 1,
   "nav_menu": {},
   "number_sections": true,
   "sideBar": true,
   "skip_h1_title": false,
   "title_cell": "Table of Contents",
   "title_sidebar": "Contents",
   "toc_cell": false,
   "toc_position": {},
   "toc_section_display": true,
   "toc_window_display": false
  }
 },
 "nbformat": 4,
 "nbformat_minor": 5
}
