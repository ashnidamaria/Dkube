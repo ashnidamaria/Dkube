{
 "cells": [
  {
   "cell_type": "code",
   "execution_count": null,
   "id": "83deabaf",
   "metadata": {},
   "outputs": [],
   "source": [
    "import pyarrow as pa\n",
    "import pyarrow.parquet as pq\n",
    "import numpy as np\n",
    "import requests, os\n",
    "import argparse\n",
    "import joblib\n",
    "from sklearn.model_selection import train_test_split\n",
    "from sklearn.metrics import accuracy_score\n",
    "from sklearn import linear_model\n",
    "from sklearn.linear_model import LogisticRegression\n",
    "from sklearn.preprocessing import StandardScaler\n",
    "import mlflow\n",
    "from sklearn import metrics\n",
    "from dkube.sdk import *\n",
    "import joblib"
   ]
  },
  {
   "cell_type": "code",
   "execution_count": null,
   "id": "bf0802ee",
   "metadata": {},
   "outputs": [],
   "source": [
    "inp_path = \"/opt/dkube/in\"\n",
    "out_path = \"/opt/dkube/out\""
   ]
  },
  {
   "cell_type": "code",
   "execution_count": null,
   "id": "45d968a7",
   "metadata": {},
   "outputs": [],
   "source": [
    "if __name__ == \"__main__\":\n",
    "\n",
    "    parser = argparse.ArgumentParser()\n",
    "    parser.add_argument(\"--url\", dest=\"url\", default=None, type=str, help=\"setup URL\")\n",
    "    parser.add_argument(\"--fs\", dest=\"fs\", required=True, type=str, help=\"featureset\")\n",
    "\n",
    "    global FLAGS\n",
    "    FLAGS, unparsed = parser.parse_known_args()\n",
    "    dkubeURL = FLAGS.url\n",
    "    fs = FLAGS.fs\n",
    "\n",
    "    ########--- Read features from input FeatureSet ---########\n",
    "\n",
    "    # Featureset API\n",
    "    authToken = os.getenv(\"DKUBE_USER_ACCESS_TOKEN\")\n",
    "    # Get client handle\n",
    "    api = DkubeApi(URL=dkubeURL, token=authToken)\n",
    "\n",
    "    # Read features\n",
    "    feature_df = api.read_featureset(name = fs)  # output: data\n",
    "\n",
    "    ########--- Train ---########\n",
    "    \n",
    "    X = feature_df.drop(\"id\", axis=1)\n",
    "    y = feature_df[\"credit_default\"]\n",
    "    \n",
    "    X_train, X_test, y_train, y_test = train_test_split(X, y, train_size=0.7, test_size=0.3, random_state=100)\n",
    "    \n",
    "    lr = LogisticRegression(random_state=100)\n",
    "    lr.fit(X_train,y_train)\n",
    "    \n",
    "    y_pred_train = lr.predict(x_train)    # Predict on train data.\n",
    "    y_pred = lr.predict(x_test)   # Predict on test data.\n",
    "    \n",
    "    #######--- Calculating metrics ---############\n",
    "    acc = metrics.accuracy_score(y_test, y_pred)\n",
    "\n",
    "    print('Accuracy:', acc)  \n",
    "\n",
    "    ########--- Logging metrics into Dkube via mlflow ---############\n",
    "    mlflow.log_metric(\"Accuracy\", acc)\n",
    "\n",
    "\n",
    "    # Exporting model\n",
    "    filename = os.path.join(out_path, \"model.joblib\")\n",
    "    joblib.dump(lr, filename)"
   ]
  }
 ],
 "metadata": {
  "kernelspec": {
   "display_name": "Python 3",
   "language": "python",
   "name": "python3"
  },
  "language_info": {
   "codemirror_mode": {
    "name": "ipython",
    "version": 3
   },
   "file_extension": ".py",
   "mimetype": "text/x-python",
   "name": "python",
   "nbconvert_exporter": "python",
   "pygments_lexer": "ipython3",
   "version": "3.8.8"
  },
  "toc": {
   "base_numbering": 1,
   "nav_menu": {},
   "number_sections": true,
   "sideBar": true,
   "skip_h1_title": false,
   "title_cell": "Table of Contents",
   "title_sidebar": "Contents",
   "toc_cell": false,
   "toc_position": {},
   "toc_section_display": true,
   "toc_window_display": false
  }
 },
 "nbformat": 4,
 "nbformat_minor": 5
}
